{
 "cells": [
  {
   "cell_type": "code",
   "execution_count": 10,
   "metadata": {},
   "outputs": [],
   "source": [
    "# %pip install --upgrade --quiet langchain langchain-openai"
   ]
  },
  {
   "cell_type": "code",
   "execution_count": 11,
   "metadata": {},
   "outputs": [
    {
     "name": "stdout",
     "output_type": "stream",
     "text": [
      "<class 'pandas.core.frame.DataFrame'>\n",
      "RangeIndex: 1028 entries, 0 to 1027\n",
      "Data columns (total 2 columns):\n",
      " #   Column     Non-Null Count  Dtype \n",
      "---  ------     --------------  ----- \n",
      " 0   review_id  1028 non-null   object\n",
      " 1   text       1028 non-null   object\n",
      "dtypes: object(2)\n",
      "memory usage: 16.2+ KB\n"
     ]
    }
   ],
   "source": [
    "import pandas as pd\n",
    "pandadata = pd.read_csv('data/review_sample.csv')\n",
    "pandadata = pandadata.drop('Unnamed: 0', axis=1)\n",
    "pandadata.info()"
   ]
  },
  {
   "cell_type": "code",
   "execution_count": 12,
   "metadata": {},
   "outputs": [
    {
     "data": {
      "text/plain": [
       "True"
      ]
     },
     "execution_count": 12,
     "metadata": {},
     "output_type": "execute_result"
    }
   ],
   "source": [
    "# Set env var OPENAI_API_KEY or load from a .env file:\n",
    "import dotenv\n",
    "\n",
    "dotenv.load_dotenv()"
   ]
  },
  {
   "cell_type": "code",
   "execution_count": 13,
   "metadata": {},
   "outputs": [],
   "source": [
    "from langchain_openai import ChatOpenAI\n",
    "\n",
    "chat = ChatOpenAI(model=\"gpt-3.5-turbo-1106\", temperature=0.2)"
   ]
  },
  {
   "cell_type": "code",
   "execution_count": 14,
   "metadata": {},
   "outputs": [
    {
     "data": {
      "text/plain": [
       "AIMessage(content='我喜欢编程。')"
      ]
     },
     "execution_count": 14,
     "metadata": {},
     "output_type": "execute_result"
    }
   ],
   "source": [
    "from langchain_core.messages import HumanMessage\n",
    "\n",
    "chat.invoke(\n",
    "    [\n",
    "        HumanMessage(\n",
    "            content=\"Translate this sentence from English to Chinese: I love programming.\"\n",
    "        )\n",
    "    ]\n",
    ")"
   ]
  },
  {
   "cell_type": "code",
   "execution_count": 15,
   "metadata": {},
   "outputs": [
    {
     "data": {
      "text/plain": [
       "AIMessage(content='I said, \"What did you just say?\"')"
      ]
     },
     "execution_count": 15,
     "metadata": {},
     "output_type": "execute_result"
    }
   ],
   "source": [
    "# No concept of state:\n",
    "chat.invoke([HumanMessage(content=\"What did you just say?\")])"
   ]
  },
  {
   "cell_type": "code",
   "execution_count": 16,
   "metadata": {},
   "outputs": [
    {
     "data": {
      "text/plain": [
       "AIMessage(content='I said \"我喜欢编程\" which means \"I love programming\" in Chinese.')"
      ]
     },
     "execution_count": 16,
     "metadata": {},
     "output_type": "execute_result"
    }
   ],
   "source": [
    "from langchain_core.messages import AIMessage\n",
    "\n",
    "chat.invoke(\n",
    "    [\n",
    "        HumanMessage(\n",
    "            content=\"Translate this sentence from English to Chinese: I love programming.\"\n",
    "        ),\n",
    "        AIMessage(content='我喜欢编程。 (Wǒ xǐhuān biānchéng.)'),\n",
    "        HumanMessage(content=\"What did you just say?\"),\n",
    "    ]\n",
    ")"
   ]
  },
  {
   "cell_type": "code",
   "execution_count": 17,
   "metadata": {},
   "outputs": [],
   "source": [
    "# define prompt template to make formatting easier, create a chain by piping it into the model\n",
    "from langchain_core.prompts import ChatPromptTemplate, MessagesPlaceholder\n",
    "\n",
    "prompt = ChatPromptTemplate.from_messages(\n",
    "    [\n",
    "        (\n",
    "            \"system\",\n",
    "            \"You are a helpful assistant. Answer all questions to the best of your ability.\",\n",
    "        ),\n",
    "        MessagesPlaceholder(variable_name=\"messages\"),\n",
    "    ]\n",
    ")\n",
    "\n",
    "chain = prompt | chat"
   ]
  },
  {
   "cell_type": "code",
   "execution_count": 18,
   "metadata": {},
   "outputs": [
    {
     "data": {
      "text/plain": [
       "AIMessage(content='I said \"我喜欢编程\" (Wǒ xǐhuān biānchéng), which means \"I love programming\" in Chinese.')"
      ]
     },
     "execution_count": 18,
     "metadata": {},
     "output_type": "execute_result"
    }
   ],
   "source": [
    "chain.invoke(\n",
    "    {\n",
    "        \"messages\": [\n",
    "            HumanMessage(\n",
    "                content=\"Translate this sentence from English to Chinese: I love programming.\"\n",
    "            ),\n",
    "            AIMessage(content='我喜欢编程。 (Wǒ xǐhuān biānchéng.)'),\n",
    "            HumanMessage(content=\"What did you just say?\"),\n",
    "        ],\n",
    "    }\n",
    ")"
   ]
  },
  {
   "cell_type": "code",
   "execution_count": 19,
   "metadata": {},
   "outputs": [
    {
     "data": {
      "text/plain": [
       "[HumanMessage(content='hi!'), AIMessage(content='whats up?')]"
      ]
     },
     "execution_count": 19,
     "metadata": {},
     "output_type": "execute_result"
    }
   ],
   "source": [
    "#in-memory demo message history \n",
    "from langchain.memory import ChatMessageHistory\n",
    "\n",
    "demo_ephemeral_chat_history = ChatMessageHistory()\n",
    "\n",
    "demo_ephemeral_chat_history.add_user_message(\"hi!\")\n",
    "\n",
    "demo_ephemeral_chat_history.add_ai_message(\"whats up?\")\n",
    "\n",
    "demo_ephemeral_chat_history.messages"
   ]
  },
  {
   "cell_type": "code",
   "execution_count": 20,
   "metadata": {},
   "outputs": [
    {
     "data": {
      "text/plain": [
       "AIMessage(content='The translation of \"I love programming\" in French is \"J\\'adore la programmation.\"')"
      ]
     },
     "execution_count": 20,
     "metadata": {},
     "output_type": "execute_result"
    }
   ],
   "source": [
    "demo_ephemeral_chat_history.add_user_message(\n",
    "    \"Translate this sentence from English to French: I love programming.\"\n",
    ")\n",
    "\n",
    "response = chain.invoke({\"messages\": demo_ephemeral_chat_history.messages})\n",
    "\n",
    "response"
   ]
  },
  {
   "cell_type": "code",
   "execution_count": 21,
   "metadata": {},
   "outputs": [
    {
     "data": {
      "text/plain": [
       "AIMessage(content='I said \"J\\'adore la programmation,\" which means \"I love programming\" in French.')"
      ]
     },
     "execution_count": 21,
     "metadata": {},
     "output_type": "execute_result"
    }
   ],
   "source": [
    "demo_ephemeral_chat_history.add_ai_message(response)\n",
    "\n",
    "demo_ephemeral_chat_history.add_user_message(\"What did you just say?\")\n",
    "\n",
    "chain.invoke({\"messages\": demo_ephemeral_chat_history.messages})"
   ]
  },
  {
   "cell_type": "code",
   "execution_count": 22,
   "metadata": {},
   "outputs": [],
   "source": [
    "from langchain_community.document_loaders.csv_loader import CSVLoader\n",
    "\n",
    "\n",
    "loader = CSVLoader(file_path='./data/review_sample.csv')\n",
    "data = loader.load()"
   ]
  },
  {
   "cell_type": "code",
   "execution_count": 23,
   "metadata": {},
   "outputs": [
    {
     "name": "stderr",
     "output_type": "stream",
     "text": [
      "Created a chunk of size 1005, which is longer than the specified 1000\n",
      "Created a chunk of size 2691, which is longer than the specified 1000\n",
      "Created a chunk of size 1054, which is longer than the specified 1000\n",
      "Created a chunk of size 1182, which is longer than the specified 1000\n",
      "Created a chunk of size 1035, which is longer than the specified 1000\n",
      "Created a chunk of size 1123, which is longer than the specified 1000\n",
      "Created a chunk of size 1509, which is longer than the specified 1000\n",
      "Created a chunk of size 1237, which is longer than the specified 1000\n",
      "Created a chunk of size 1344, which is longer than the specified 1000\n",
      "Created a chunk of size 1323, which is longer than the specified 1000\n"
     ]
    }
   ],
   "source": [
    "# db vectorstore retriever\n",
    "from langchain.text_splitter import CharacterTextSplitter\n",
    "from langchain_community.vectorstores import FAISS\n",
    "from langchain_openai import OpenAIEmbeddings\n",
    "\n",
    "documents = loader.load()\n",
    "text_splitter = CharacterTextSplitter(chunk_size=1000, chunk_overlap=0)\n",
    "texts = text_splitter.split_documents(documents)\n",
    "embeddings = OpenAIEmbeddings()\n",
    "db = FAISS.from_documents(texts, embeddings)\n",
    "retriever = db.as_retriever(k=2)"
   ]
  },
  {
   "cell_type": "code",
   "execution_count": 24,
   "metadata": {},
   "outputs": [],
   "source": [
    "from langchain.text_splitter import RecursiveCharacterTextSplitter\n",
    "# split into smaller chunks so context window can store in vector database\n",
    "text_splitter = RecursiveCharacterTextSplitter(chunk_size=500, chunk_overlap=0)\n",
    "all_splits = text_splitter.split_documents(data)"
   ]
  },
  {
   "cell_type": "code",
   "execution_count": 25,
   "metadata": {},
   "outputs": [],
   "source": [
    "from langchain_community.vectorstores import Chroma\n",
    "from langchain_openai import OpenAIEmbeddings\n",
    "\n",
    "# embed and store chunks in vector database\n",
    "vectorstore = Chroma.from_documents(documents=all_splits, embedding=OpenAIEmbeddings())"
   ]
  },
  {
   "cell_type": "code",
   "execution_count": 26,
   "metadata": {},
   "outputs": [
    {
     "data": {
      "text/plain": [
       "[Document(page_content=': 219\\nreview_id: tvX9owIjsyCTMOVBL_ucgQ\\ntext: Loved this place. We were on a hunt for the best milkshake in New Orleans back in May and The Camellia Grill did not disappoint. We tried the cherry and orange freezes and both were delish!  The onion rings were also quite good. Our waiter Marvin was personable and quick. It was an all-around great experience. \\n\\n(Quick note to say: riding high on that milkshake buzz, we took our friends who were not with us to the location near the French Quarter so they could try the shakes. We had the worst service in the history of service there, including a waiter who was so drunk we thought he was going to get sick right in front of us. So definitely stick with the this location!)', metadata={'source': './data/review_sample.csv', 'row': 219}),\n",
       " Document(page_content=\"We got two friezes (milkshakes), the chocolate and coffee frieze.  Liked both, although I'd go back to try the vanilla double-scoop frieze, especially if I am staying at a hotel with a functioning gym ... only complaint about my coffee frieze was it was very slushy.  Maybe ask to cut down on the ice and double the ice cream (I think they use Blue Bell).\\n\\nTo finish the decadence, we got dessert.  You cannot go to Camellia and NOT order dessert.  Seriously, if you want to make a checklist of what to get when you go, stick with the omelette, maybe a frieze, but definitely a slice of pie.  We shared the vaunted Grilled Pecan Pie (served with a scoop of vanilla ice cream) and Coconut Creme Pie.  I never had coconut creme pie before and shit, it was good.  So good I stole the last bite from my girl friend.  And it was a big bite.\", metadata={'source': './data/review_sample.csv', 'row': 987}),\n",
       " Document(page_content=\": 640\\nreview_id: b9mXKT4KniZ3Y8TH8OXXTg\\ntext: Don't be frightened by the long line outside this joint! Go and stand in line, its worth the wait. Make sure you go with an old friend or some great company, you will have plenty of time to chat and catch up while you wait. \\n\\nOnce we were seated, we were greeted with the most awesome staff I've ever been served by in a breakfast joint. We not only enjoyed our service experience but the food experience was excellent as well. Camellia's omelets are a must order! The eggs are whipped up in one of those milkshake mixers before poured over the griddle. The result is the fluffiest omelets I've ever had! \\n\\nSide note, I thought it was interesting that they make omelets with milkshake mixers and milkshakes with a blender.\", metadata={'source': './data/review_sample.csv', 'row': 640}),\n",
       " Document(page_content=\": 102\\nreview_id: R4D6VSyXxyCU31Pj9geCKQ\\ntext: I would go here just for the chocolate pecan pie! Served warm (they toss it on the grill with some butter) with ice cream....I'm salivating just thinking about it. \\n\\nCamellia Grill is one of those places we HAVE to go to every visit. My husband always orders the Chef's Special omelet, you never know what you'll find in it! It's huge, the sixe of a rolled newspaper. The burgers are fantastic too. \\n\\nThere is usually a line out the door, there are only a few seats inside, but its worth the wait! The waiters are always friendly and make you feel like you are a regular there. So glad they re-opened after Katrina!\", metadata={'source': './data/review_sample.csv', 'row': 102})]"
      ]
     },
     "execution_count": 26,
     "metadata": {},
     "output_type": "execute_result"
    }
   ],
   "source": [
    "# create retriever from our initialized vectorstore\n",
    "# k is the number of chunks to retrieve\n",
    "\n",
    "#retriever = vectorstore.as_retriever(k=4)\n",
    "\n",
    "docs = retriever.invoke(\"What are the best milkshakes at Camellia Grill?\")\n",
    "\n",
    "docs"
   ]
  },
  {
   "cell_type": "code",
   "execution_count": 27,
   "metadata": {},
   "outputs": [],
   "source": [
    "from langchain.chains.combine_documents import create_stuff_documents_chain\n",
    "# modify prompt to accept documents as context\n",
    "\n",
    "chat = ChatOpenAI(model=\"gpt-3.5-turbo-1106\")\n",
    "\n",
    "question_answering_prompt = ChatPromptTemplate.from_messages(\n",
    "    [\n",
    "        (\n",
    "            \"system\",\n",
    "            \"Answer the user's questions based on the below context:\\n\\n{context}\",\n",
    "        ),\n",
    "        MessagesPlaceholder(variable_name=\"messages\"),\n",
    "    ]\n",
    ")\n",
    "\n",
    "document_chain = create_stuff_documents_chain(chat, question_answering_prompt)"
   ]
  },
  {
   "cell_type": "code",
   "execution_count": 28,
   "metadata": {},
   "outputs": [
    {
     "data": {
      "text/plain": [
       "\"The Camellia Grill is a popular restaurant in New Orleans known for its milkshakes, omelets, and pies. Customers have raved about the delicious milkshakes, particularly the cherry and orange freezes, as well as the chocolate and coffee friezes. The omelets are also highly recommended, with the eggs whipped up in milkshake mixers for a fluffy result. Additionally, the restaurant is praised for its friendly and personable staff, making customers feel like regulars. It's worth noting that there may be a wait due to the restaurant's popularity, but customers have found it to be worth it.\""
      ]
     },
     "execution_count": 28,
     "metadata": {},
     "output_type": "execute_result"
    }
   ],
   "source": [
    "# invode document chain with docs\n",
    "from langchain.memory import ChatMessageHistory\n",
    "\n",
    "demo_ephemeral_chat_history = ChatMessageHistory()\n",
    "\n",
    "demo_ephemeral_chat_history.add_user_message(\"What can you tell me about the Camellia Grill?\")\n",
    "\n",
    "document_chain.invoke(\n",
    "    {\n",
    "        \"messages\": demo_ephemeral_chat_history.messages,\n",
    "        \"context\": docs,\n",
    "    }\n",
    ")"
   ]
  },
  {
   "cell_type": "code",
   "execution_count": 29,
   "metadata": {},
   "outputs": [],
   "source": [
    "# creating a retrieval chain\n",
    "# extract last message from user for input to relevant docs, add to current chain as context\n",
    "# pass context plus previous messages into the document chain to generate answer\n",
    "\n",
    "from typing import Dict\n",
    "\n",
    "from langchain_core.runnables import RunnablePassthrough\n",
    "\n",
    "\n",
    "def parse_retriever_input(params: Dict):\n",
    "    return params[\"messages\"][-1].content\n",
    "\n",
    "\n",
    "retrieval_chain = RunnablePassthrough.assign(\n",
    "    context=parse_retriever_input | retriever,\n",
    ").assign(\n",
    "    answer=document_chain,\n",
    ")"
   ]
  },
  {
   "cell_type": "code",
   "execution_count": 30,
   "metadata": {},
   "outputs": [
    {
     "data": {
      "text/plain": [
       "{'messages': [HumanMessage(content='What can you tell me about the Camellia Grill?')],\n",
       " 'context': [Document(page_content=': 989\\nreview_id: PsWZU2dyIpWJZYxfgpqZMg\\ntext: The Camellia Grill is an institution, so much so that they were filming a segment for a TV show/movie on my recent visit (and the fascination surrounding this outweighed the delay in service that happened as a result).\\n\\nHere is what you will find...\\n\\n1. Servers like Michael who take a lot of pride in their work. They call out multiple orders at a time, then the cooks go to work.\\n2. 100% low counter seating. Every seat faces the kitchen. If your larger group wants to have a conversation, this may not be the best place.\\n3. Delicious breakfast options (standard eggs and bacon, grits, omelettes, pancakes), burgers, shakes, etc. Imagine taking the best of Waffle House and Johnny Rockets and putting it into a fun, local establishment.\\n4. It is crowded at peak breakfast and lunch times.', metadata={'source': './data/review_sample.csv', 'row': 989}),\n",
       "  Document(page_content=\": 1026\\nreview_id: UuthR2CkatLYPnUVZMtaTw\\ntext: The Camellia Grill is a legend in New Orleans. Definitely the type of place I bring friends and family to when they come to visit. As locals, me and my family go there every time were in the area.  It's my favorite place to eat because the atmosphere, the service, and the food. When we walk in the door I feel like I'm stepping back in time to an old time diner.  The set-up is just one long counter surrounding the grills and it's decorated like were back in the 50's. The servers wear white dress shirts with bow ties like you expect to see in a diner. It has a vintage feel.  It's the time of place that the waiters call out your order to the back using diner lingo and they are always so friendly. If you don't know what to get they are always open to giving suggestions on classic favorites. They are perfect for late night, early morning, lunch, and dinner. They have breakfast food and a good variety of burgers and sandwiches. The food is cooked right in front of you, however you like it. I would recommend this place to locals and tourist. It's a new Orleans classic.\", metadata={'source': './data/review_sample.csv', 'row': 1026}),\n",
       "  Document(page_content=\": 720\\nreview_id: bd14Qo_l8VJh1-KfTmz7Fg\\ntext: Camellia Grill is the type of diners you see in the movies.  The atmosphere here is an overall good dining experience. I've been here twice, one for lunch and once for dinner. Countertop seating is where it's at here. There was no wait both times I've been there. Quick and attentive service has you in and out of there enjoying their delicious grill options and home-style cooking. Breakfast items are the classic American menu, with bacon, eggs, and more. The burgers were everything I would expect in a good burger. The patties had a nice taste and dressing options for the burger were plenty with fresh vegetables. The fries and onion rings were exceptional. This is a good place for chatting or even reading a book while eating, like I saw some people doing. The staff are familiar with the customers as well. Overall, Camelia's Grill delivers everything one would expect for a diner. This place is definitely a NOLA classic.\", metadata={'source': './data/review_sample.csv', 'row': 720}),\n",
       "  Document(page_content=\": 377\\nreview_id: kR28I_muoQGwF4cO94Fwdw\\ntext: So much to say about Camellia Grill. It may seem like just an old, run-down restaurant, but it is much more than that. Camellia puts out great breakfast food that I will eat at any time of the day, very good burgers and sandwiches, and excellent desserts like their pecan pie. I recommend the Manhattan and Chef Special Omelettes for breakfast and the Club Sandwich.\\n\\n The food is half the reason you go there. The other half is just for the atmosphere. It has that old fashioned diner feel, and the wait staff is great, nice, and very entertaining.\\n\\nWhether you are really hungover or just looking for a great meal, you really can't go wrong going to Camellia.\", metadata={'source': './data/review_sample.csv', 'row': 377})],\n",
       " 'answer': \"The Camellia Grill is a legendary diner in New Orleans known for its vintage feel and classic American menu. It offers delicious breakfast options, burgers, sandwiches, and excellent desserts like pecan pie. The atmosphere is reminiscent of an old-fashioned diner, with servers who wear white dress shirts and bow ties. The seating consists of a low counter facing the kitchen, and the staff is known for being friendly and entertaining. It's a popular spot for locals and tourists alike, and it can get crowded during peak breakfast and lunch times.\"}"
      ]
     },
     "execution_count": 30,
     "metadata": {},
     "output_type": "execute_result"
    }
   ],
   "source": [
    "response = retrieval_chain.invoke(\n",
    "    {\n",
    "        \"messages\": demo_ephemeral_chat_history.messages,\n",
    "    }\n",
    ")\n",
    "\n",
    "response"
   ]
  },
  {
   "cell_type": "code",
   "execution_count": 31,
   "metadata": {},
   "outputs": [
    {
     "data": {
      "text/plain": [
       "{'messages': [HumanMessage(content='What can you tell me about the Camellia Grill?'),\n",
       "  AIMessage(content=\"The Camellia Grill is a legendary diner in New Orleans known for its vintage feel and classic American menu. It offers delicious breakfast options, burgers, sandwiches, and excellent desserts like pecan pie. The atmosphere is reminiscent of an old-fashioned diner, with servers who wear white dress shirts and bow ties. The seating consists of a low counter facing the kitchen, and the staff is known for being friendly and entertaining. It's a popular spot for locals and tourists alike, and it can get crowded during peak breakfast and lunch times.\"),\n",
       "  HumanMessage(content='tell me more about that!')],\n",
       " 'context': [Document(page_content='As we ate, we chatted and fist-bumped with various servers who came to check on us.  One offered free advice: \"It\\'s all in ya head,\" he said sagely, after we commented on the beautiful weather and atmosphere here.  \"Ya think positive, ya gonna live positive.\"  He continued this speech as a quasi-soliloquy as he went off in search of banana cream pie, and since the only piece left was a little thin, he cut us half a piece of coconut too.  They were both out of this world, and to this moment I regret every bite we left on our plates.\\n\\nYes, it\\'s just a diner.  And no, it\\'s not.  It\\'s so much more.', metadata={'source': './data/review_sample.csv', 'row': 248}),\n",
       "  Document(page_content=\": 738\\nreview_id: ctYtr59egY9tHgxjAuJyQw\\ntext: What can I say that hasn't already been said? The place is an institution and I've been going there since I was literally weeks old. Same as it's been for ages, you cram up to the counter when I get my chance, have a phenomenal omelet or waffle, and remember the goods time I've had, whether after a parade or for breakfast with family when I was 3-4, or after a drunken night out in my 20's.\", metadata={'source': './data/review_sample.csv', 'row': 738}),\n",
       "  Document(page_content=': 647\\nreview_id: 3nv3GLVtuCcWLbcmd6nS3w\\ntext: One of the main reasons I\\'m going back to New Orleans in October.  (the first being to remove a curse placed on me by a voodoo practicing street person whose parrot I inadvertently sang the wrong song to). \\n\\nLong story.\\n\\nOur waiter looked just like, and was every bit as cool as, Elvis Costello.  The Pecan Pie was so incredible I began to ask strangers if they were sure they were going to finish theirs.  All of their food is hardy and just makes you feel good.  The chili omelette - the thick, meaty burgers.  \"Warms the heart\" kinda food.  \\n\\nWe took a streetcar (named Desire?) from the far side of the French Quarter which allowed us to experience the beautiful Garden District in which the grill resides.  Definitely away from Bourbon Street tomfoolery, but well worth the sojourn.', metadata={'source': './data/review_sample.csv', 'row': 647}),\n",
       "  Document(page_content=': 551\\nreview_id: XWbICZmCbEeNwp2OaDaQqA\\ntext: Was here during Jazz Fest 2009.  This place is awesome!  Old style counter seating encourages neighborly conversations while excellent service provides entertainment and efficiency.  \"We\\'ll start with some waters\", I replied.  A server in white shirt and black bow tie exults in twang, \\'two glasses of Mississippi coming right up.\\'  Portions are huge!  I had a buttery burger melt that was juicy and hearty.  A traditional greasy spoon with the warmth of mama\\'s kitchen.  Once you walk in, you\\'re immediately part of the family. This home is where the heart is.', metadata={'source': './data/review_sample.csv', 'row': 551})],\n",
       " 'answer': \"The Camellia Grill is an iconic New Orleans diner that has been around for decades. It's famous for its retro atmosphere, complete with counter seating and servers who engage in friendly banter with the customers. The menu features classic American comfort food, including hearty burgers, omelets, and decadent desserts like pecan pie and banana cream pie. The friendly and entertaining staff, along with the warm and welcoming ambiance, contribute to the diner's reputation as a beloved institution. It's a must-visit for anyone looking for a quintessential New Orleans dining experience.\"}"
      ]
     },
     "execution_count": 31,
     "metadata": {},
     "output_type": "execute_result"
    }
   ],
   "source": [
    "demo_ephemeral_chat_history.add_ai_message(response[\"answer\"])\n",
    "\n",
    "demo_ephemeral_chat_history.add_user_message(\"tell me more about that!\")\n",
    "\n",
    "retrieval_chain.invoke(\n",
    "    {\n",
    "        \"messages\": demo_ephemeral_chat_history.messages,\n",
    "    },\n",
    ")"
   ]
  },
  {
   "cell_type": "code",
   "execution_count": 32,
   "metadata": {},
   "outputs": [
    {
     "data": {
      "text/plain": [
       "\"The Camellia Grill is not just a place to eat, it's an experience. It's been a beloved institution in New Orleans for generations, offering a unique blend of delicious comfort food and a warm, nostalgic atmosphere. The classic diner setting with counter seating encourages conversation and a sense of community, and the servers are known for their engaging and friendly interactions with the customers. The food is hearty and comforting, with generous portions and a focus on traditional American favorites like omelets, burgers, and pies. Whether you're visiting for breakfast, brunch, or a late-night snack, the Camellia Grill is a place where you can feel like part of the family.\""
      ]
     },
     "execution_count": 32,
     "metadata": {},
     "output_type": "execute_result"
    }
   ],
   "source": [
    "#define retrieval chain using a pipe directly into the document chain\n",
    "retrieval_chain_with_only_answer = (\n",
    "    RunnablePassthrough.assign(\n",
    "        context=parse_retriever_input | retriever,\n",
    "    )\n",
    "    | document_chain\n",
    ")\n",
    "\n",
    "retrieval_chain_with_only_answer.invoke(\n",
    "    {\n",
    "        \"messages\": demo_ephemeral_chat_history.messages,\n",
    "    },\n",
    ")"
   ]
  },
  {
   "cell_type": "code",
   "execution_count": 33,
   "metadata": {},
   "outputs": [
    {
     "data": {
      "text/plain": [
       "[Document(page_content=\": 126\\nreview_id: ErIdqgbe_TVQuqCWuQQ3BQ\\ntext: This place is pretty straight forward. Breakfast and lunch dinner with animated old school wait staff. We usually come on a Saturday after soccer, if the line isn't around the building. Not sure what all the fuss is about, as Camellia Grill isn't the best breakfast stop, but it's decent. The biggest drawback for me is the seating. It's very crowded, and you will definitely be grazing knees or elbows with whomever is sitting next to you. It's fine for a quick bite with a person or two, but not a good place for groups.\", metadata={'source': './data/review_sample.csv', 'row': 126}),\n",
       " Document(page_content=\": 759\\nreview_id: NdZhVbRSBMXNQpuAKQXnBQ\\ntext: While this is definitely one of the more touristy restaurants in this part of town, Camellia Grill is consistently delicious and a frequent stop for me.\\n\\nIt has a true diner feel, using only a curved bar with stools rather than tables, which adds to a fun experience (but may present problems for people with disabilities, as the stools aren't particularly comfortable and can put strain on people's backs). The waiters behind the bar are very friendly and social. The food is always great, especially the burgers. I have never been disappointed with a meal here.\\n\\nThe only downside is that the restaurant smells a little funky sometimes, but it's not enough to ruin the experience.\", metadata={'source': './data/review_sample.csv', 'row': 759}),\n",
       " Document(page_content=': 926\\nreview_id: 71lCkEgQWf-evwZmEsaiIQ\\ntext: Wanting to venture out away from the unpleasant sights of downtown New Orleans for dinner, a cousin of mine recommended the Camellia Grill for dinner. So the family and I decided to take a little drive and check this place out. \\n\\nUpon walking in, you are greeted by a cashier that tells you to take a seat where you like. The setup is that of a diner with fixed barstools and you belly up to the counter. The family and I took our seats and were handed menus and a water. \\n\\nAfter making our decisions, the wife had red beans and rice; my youngest had a chocolate chip pancake; my oldest had chicken strips; and I had a bacon cheeseburger with fries. A lot of the stuff on the menu looked delicious. Since we were jerks, and came here 30 minutes before closing, I picked a cheeseburger quickly without thinking. \\n\\nIn good time our food started arriving piecemeal. The four of us started enjoying our meals promptly, so these folks could go home.', metadata={'source': './data/review_sample.csv', 'row': 926}),\n",
       " Document(page_content='On a great day, you\\'ll find the cooks to be more entertaining than anything else around.  I always think of Camellia Grill as \"dinner and a show\"... I\\'ve heard so many hilarious jokes (though not all of them were child-friendly) and seen spatula and egg juggling, tossing items on the grill from across the restaurant, and other such antics that keep me in stitches throughout my meal.\\n\\nThe only things keeping this from being a 5 star review are 1) the inevitably long wait, as there are few seats and no outdoor seating available, and 2) the prices are deceptively low on the menu... the burger is cheap, but they charge for it to be dressed, relatively high cost for a slice of cheese, fries are a la carte, so it can surprise you when you get your total.  Still a decent value, but I do wish I didn\\'t have to do so much math when ordering!  Worth every penny, though.', metadata={'source': './data/review_sample.csv', 'row': 539})]"
      ]
     },
     "execution_count": 33,
     "metadata": {},
     "output_type": "execute_result"
    }
   ],
   "source": [
    "retriever.invoke(\"Is the camellia grill kid-friendly?\")"
   ]
  },
  {
   "cell_type": "code",
   "execution_count": 34,
   "metadata": {},
   "outputs": [
    {
     "data": {
      "text/plain": [
       "[Document(page_content='As we ate, we chatted and fist-bumped with various servers who came to check on us.  One offered free advice: \"It\\'s all in ya head,\" he said sagely, after we commented on the beautiful weather and atmosphere here.  \"Ya think positive, ya gonna live positive.\"  He continued this speech as a quasi-soliloquy as he went off in search of banana cream pie, and since the only piece left was a little thin, he cut us half a piece of coconut too.  They were both out of this world, and to this moment I regret every bite we left on our plates.\\n\\nYes, it\\'s just a diner.  And no, it\\'s not.  It\\'s so much more.', metadata={'source': './data/review_sample.csv', 'row': 248}),\n",
       " Document(page_content=\": 738\\nreview_id: ctYtr59egY9tHgxjAuJyQw\\ntext: What can I say that hasn't already been said? The place is an institution and I've been going there since I was literally weeks old. Same as it's been for ages, you cram up to the counter when I get my chance, have a phenomenal omelet or waffle, and remember the goods time I've had, whether after a parade or for breakfast with family when I was 3-4, or after a drunken night out in my 20's.\", metadata={'source': './data/review_sample.csv', 'row': 738}),\n",
       " Document(page_content=': 551\\nreview_id: XWbICZmCbEeNwp2OaDaQqA\\ntext: Was here during Jazz Fest 2009.  This place is awesome!  Old style counter seating encourages neighborly conversations while excellent service provides entertainment and efficiency.  \"We\\'ll start with some waters\", I replied.  A server in white shirt and black bow tie exults in twang, \\'two glasses of Mississippi coming right up.\\'  Portions are huge!  I had a buttery burger melt that was juicy and hearty.  A traditional greasy spoon with the warmth of mama\\'s kitchen.  Once you walk in, you\\'re immediately part of the family. This home is where the heart is.', metadata={'source': './data/review_sample.csv', 'row': 551}),\n",
       " Document(page_content='The crust is super thin, nearly like filo pastry, and the filling is the perfect blend of sweet, gooey goodness and pecans with just a hint of salt. The magic comes when they put it on the grill. Yes - they warm your pie (top down to start) on the grill, which is why it makes it even more important to order it a la mode. Some kind of awesome alchemy happens where the pie picks up just a hint of the delicious salty flavour of whatever has preceded it on the grill.\\n\\nIt was epic. I will hold the dessert memory dear until I can get back for another slice of heaven.', metadata={'source': './data/review_sample.csv', 'row': 550})]"
      ]
     },
     "execution_count": 34,
     "metadata": {},
     "output_type": "execute_result"
    }
   ],
   "source": [
    "retriever.invoke(\"Tell me more about that!\")"
   ]
  },
  {
   "cell_type": "code",
   "execution_count": 35,
   "metadata": {},
   "outputs": [],
   "source": [
    "# add query transformation step that removes references from the input\n",
    "from langchain_core.output_parsers import StrOutputParser\n",
    "from langchain_core.runnables import RunnableBranch\n",
    "\n",
    "# We need a prompt that we can pass into an LLM to generate a transformed search query\n",
    "\n",
    "chat = ChatOpenAI(model=\"gpt-3.5-turbo-1106\", temperature=0.2)\n",
    "\n",
    "query_transform_prompt = ChatPromptTemplate.from_messages(\n",
    "    [\n",
    "        MessagesPlaceholder(variable_name=\"messages\"),\n",
    "        (\n",
    "            \"user\",\n",
    "            \"Given the above conversation, generate a search query to look up in order to get information relevant to the conversation. Only respond with the query, nothing else.\",\n",
    "        ),\n",
    "    ]\n",
    ")\n",
    "\n",
    "query_transforming_retriever_chain = RunnableBranch(\n",
    "    (\n",
    "        lambda x: len(x.get(\"messages\", [])) == 1,\n",
    "        # If only one message, then we just pass that message's content to retriever\n",
    "        (lambda x: x[\"messages\"][-1].content) | retriever,\n",
    "    ),\n",
    "    # If messages, then we pass inputs to LLM chain to transform the query, then pass to retriever\n",
    "    query_transform_prompt | chat | StrOutputParser() | retriever,\n",
    ").with_config(run_name=\"chat_retriever_chain\")"
   ]
  },
  {
   "cell_type": "code",
   "execution_count": 54,
   "metadata": {},
   "outputs": [],
   "source": [
    "# recreate earlier chain with the new query_transforming_retriever_chain\n",
    "\n",
    "#restart chat history\n",
    "document_chain = create_stuff_documents_chain(chat, question_answering_prompt)\n",
    "\n",
    "conversational_retrieval_chain = RunnablePassthrough.assign(\n",
    "    context=query_transforming_retriever_chain,\n",
    ").assign(\n",
    "    answer=document_chain,\n",
    ")\n",
    "\n",
    "demo_ephemeral_chat_history = ChatMessageHistory()"
   ]
  },
  {
   "cell_type": "code",
   "execution_count": 55,
   "metadata": {},
   "outputs": [
    {
     "data": {
      "text/plain": [
       "{'messages': [HumanMessage(content='what sort of food is Camellia Grill known for?'),\n",
       "  AIMessage(content='Camellia Grill is known for its delicious breakfast options such as eggs, bacon, grits, omelettes, and pancakes, as well as classic American menu items like burgers, sandwiches, shakes, and home-style cooking. The restaurant is also praised for its excellent desserts, including pecan pie.')],\n",
       " 'context': [Document(page_content=\": 1026\\nreview_id: UuthR2CkatLYPnUVZMtaTw\\ntext: The Camellia Grill is a legend in New Orleans. Definitely the type of place I bring friends and family to when they come to visit. As locals, me and my family go there every time were in the area.  It's my favorite place to eat because the atmosphere, the service, and the food. When we walk in the door I feel like I'm stepping back in time to an old time diner.  The set-up is just one long counter surrounding the grills and it's decorated like were back in the 50's. The servers wear white dress shirts with bow ties like you expect to see in a diner. It has a vintage feel.  It's the time of place that the waiters call out your order to the back using diner lingo and they are always so friendly. If you don't know what to get they are always open to giving suggestions on classic favorites. They are perfect for late night, early morning, lunch, and dinner. They have breakfast food and a good variety of burgers and sandwiches. The food is cooked right in front of you, however you like it. I would recommend this place to locals and tourist. It's a new Orleans classic.\", metadata={'source': './data/review_sample.csv', 'row': 1026}),\n",
       "  Document(page_content=': 989\\nreview_id: PsWZU2dyIpWJZYxfgpqZMg\\ntext: The Camellia Grill is an institution, so much so that they were filming a segment for a TV show/movie on my recent visit (and the fascination surrounding this outweighed the delay in service that happened as a result).\\n\\nHere is what you will find...\\n\\n1. Servers like Michael who take a lot of pride in their work. They call out multiple orders at a time, then the cooks go to work.\\n2. 100% low counter seating. Every seat faces the kitchen. If your larger group wants to have a conversation, this may not be the best place.\\n3. Delicious breakfast options (standard eggs and bacon, grits, omelettes, pancakes), burgers, shakes, etc. Imagine taking the best of Waffle House and Johnny Rockets and putting it into a fun, local establishment.\\n4. It is crowded at peak breakfast and lunch times.', metadata={'source': './data/review_sample.csv', 'row': 989}),\n",
       "  Document(page_content=\": 377\\nreview_id: kR28I_muoQGwF4cO94Fwdw\\ntext: So much to say about Camellia Grill. It may seem like just an old, run-down restaurant, but it is much more than that. Camellia puts out great breakfast food that I will eat at any time of the day, very good burgers and sandwiches, and excellent desserts like their pecan pie. I recommend the Manhattan and Chef Special Omelettes for breakfast and the Club Sandwich.\\n\\n The food is half the reason you go there. The other half is just for the atmosphere. It has that old fashioned diner feel, and the wait staff is great, nice, and very entertaining.\\n\\nWhether you are really hungover or just looking for a great meal, you really can't go wrong going to Camellia.\", metadata={'source': './data/review_sample.csv', 'row': 377}),\n",
       "  Document(page_content=\": 720\\nreview_id: bd14Qo_l8VJh1-KfTmz7Fg\\ntext: Camellia Grill is the type of diners you see in the movies.  The atmosphere here is an overall good dining experience. I've been here twice, one for lunch and once for dinner. Countertop seating is where it's at here. There was no wait both times I've been there. Quick and attentive service has you in and out of there enjoying their delicious grill options and home-style cooking. Breakfast items are the classic American menu, with bacon, eggs, and more. The burgers were everything I would expect in a good burger. The patties had a nice taste and dressing options for the burger were plenty with fresh vegetables. The fries and onion rings were exceptional. This is a good place for chatting or even reading a book while eating, like I saw some people doing. The staff are familiar with the customers as well. Overall, Camelia's Grill delivers everything one would expect for a diner. This place is definitely a NOLA classic.\", metadata={'source': './data/review_sample.csv', 'row': 720})],\n",
       " 'answer': 'Camellia Grill is known for its delicious breakfast options such as eggs, bacon, grits, omelettes, and pancakes, as well as classic American menu items like burgers, sandwiches, shakes, and home-style cooking. The restaurant is also praised for its excellent desserts, including pecan pie.'}"
      ]
     },
     "execution_count": 55,
     "metadata": {},
     "output_type": "execute_result"
    }
   ],
   "source": [
    "# invoke it\n",
    "demo_ephemeral_chat_history.add_user_message(\"what sort of food is Camellia Grill known for?\")\n",
    "\n",
    "response = conversational_retrieval_chain.invoke(\n",
    "    {\"messages\": demo_ephemeral_chat_history.messages},\n",
    ")\n",
    "\n",
    "demo_ephemeral_chat_history.add_ai_message(response[\"answer\"])\n",
    "\n",
    "response"
   ]
  },
  {
   "cell_type": "code",
   "execution_count": 56,
   "metadata": {},
   "outputs": [
    {
     "data": {
      "text/plain": [
       "{'messages': [HumanMessage(content='what sort of food is Camellia Grill known for?'),\n",
       "  AIMessage(content='Camellia Grill is known for its delicious breakfast options such as eggs, bacon, grits, omelettes, and pancakes, as well as classic American menu items like burgers, sandwiches, shakes, and home-style cooking. The restaurant is also praised for its excellent desserts, including pecan pie.'),\n",
       "  HumanMessage(content='tell me more about that!'),\n",
       "  AIMessage(content=\"Camellia Grill is known for serving classic American comfort food, including breakfast items like eggs, bacon, and pancakes. Their burgers are highly praised for their taste and the variety of dressing options available. The restaurant also offers delicious home-style cooking, as well as exceptional desserts such as apple pie and pecan pie. Overall, it's a place where you can enjoy a wide range of traditional American dishes in a nostalgic diner atmosphere.\")],\n",
       " 'context': [Document(page_content=\": 720\\nreview_id: bd14Qo_l8VJh1-KfTmz7Fg\\ntext: Camellia Grill is the type of diners you see in the movies.  The atmosphere here is an overall good dining experience. I've been here twice, one for lunch and once for dinner. Countertop seating is where it's at here. There was no wait both times I've been there. Quick and attentive service has you in and out of there enjoying their delicious grill options and home-style cooking. Breakfast items are the classic American menu, with bacon, eggs, and more. The burgers were everything I would expect in a good burger. The patties had a nice taste and dressing options for the burger were plenty with fresh vegetables. The fries and onion rings were exceptional. This is a good place for chatting or even reading a book while eating, like I saw some people doing. The staff are familiar with the customers as well. Overall, Camelia's Grill delivers everything one would expect for a diner. This place is definitely a NOLA classic.\", metadata={'source': './data/review_sample.csv', 'row': 720}),\n",
       "  Document(page_content=': 734\\nreview_id: V-5YCZ2mzuaTDk1TXacF5Q\\ntext: We had a great time at Camellia Grill!  The food was great! The people were wonderful!  We had great service! It was like stepping back in time!', metadata={'source': './data/review_sample.csv', 'row': 734}),\n",
       "  Document(page_content=\": 910\\nreview_id: JPL3paT1M3U-r6dmF-9mEQ\\ntext: Didn't expect it but, The Camellia Grill was definitely cool. The prices are very moderate as well. Pretty much every menu item that we have purchased was really fresh and delicious. I became very good friends with the staff, who are all wonderful and super welcoming. The Camellia Grill, I love it so much.\", metadata={'source': './data/review_sample.csv', 'row': 910}),\n",
       "  Document(page_content=': 423\\nreview_id: P9PEf3dyNcNTAOS9ptEN6g\\ntext: Camellia Grill is small place with good service and good comfort food. I would definitely recommend the cheeseburger, chili cheese fries and the apple pie. Our waiter Varnel (apologizes if i messed up the name) was very pleasant and recommended places to see in the area. Good price for the food as well.', metadata={'source': './data/review_sample.csv', 'row': 423})],\n",
       " 'answer': \"Camellia Grill is known for serving classic American comfort food, including breakfast items like eggs, bacon, and pancakes. Their burgers are highly praised for their taste and the variety of dressing options available. The restaurant also offers delicious home-style cooking, as well as exceptional desserts such as apple pie and pecan pie. Overall, it's a place where you can enjoy a wide range of traditional American dishes in a nostalgic diner atmosphere.\"}"
      ]
     },
     "execution_count": 56,
     "metadata": {},
     "output_type": "execute_result"
    }
   ],
   "source": [
    "demo_ephemeral_chat_history.add_user_message(\"tell me more about that!\")\n",
    "\n",
    "response = conversational_retrieval_chain.invoke(\n",
    "    {\"messages\": demo_ephemeral_chat_history.messages}\n",
    ")\n",
    "\n",
    "demo_ephemeral_chat_history.add_ai_message(response[\"answer\"])\n",
    "response\n"
   ]
  },
  {
   "cell_type": "code",
   "execution_count": 57,
   "metadata": {},
   "outputs": [
    {
     "data": {
      "text/plain": [
       "{'messages': [HumanMessage(content='what sort of food is Camellia Grill known for?'),\n",
       "  AIMessage(content='Camellia Grill is known for its delicious breakfast options such as eggs, bacon, grits, omelettes, and pancakes, as well as classic American menu items like burgers, sandwiches, shakes, and home-style cooking. The restaurant is also praised for its excellent desserts, including pecan pie.'),\n",
       "  HumanMessage(content='tell me more about that!'),\n",
       "  AIMessage(content=\"Camellia Grill is known for serving classic American comfort food, including breakfast items like eggs, bacon, and pancakes. Their burgers are highly praised for their taste and the variety of dressing options available. The restaurant also offers delicious home-style cooking, as well as exceptional desserts such as apple pie and pecan pie. Overall, it's a place where you can enjoy a wide range of traditional American dishes in a nostalgic diner atmosphere.\"),\n",
       "  HumanMessage(content='Is it known for anything else other than food?')],\n",
       " 'context': [Document(page_content=\": 720\\nreview_id: bd14Qo_l8VJh1-KfTmz7Fg\\ntext: Camellia Grill is the type of diners you see in the movies.  The atmosphere here is an overall good dining experience. I've been here twice, one for lunch and once for dinner. Countertop seating is where it's at here. There was no wait both times I've been there. Quick and attentive service has you in and out of there enjoying their delicious grill options and home-style cooking. Breakfast items are the classic American menu, with bacon, eggs, and more. The burgers were everything I would expect in a good burger. The patties had a nice taste and dressing options for the burger were plenty with fresh vegetables. The fries and onion rings were exceptional. This is a good place for chatting or even reading a book while eating, like I saw some people doing. The staff are familiar with the customers as well. Overall, Camelia's Grill delivers everything one would expect for a diner. This place is definitely a NOLA classic.\", metadata={'source': './data/review_sample.csv', 'row': 720}),\n",
       "  Document(page_content=\": 676\\nreview_id: Dt8XFSlvUv86m2tRlw6kmA\\ntext: Camellia Grill is the definition of a cute little diner with to-die-for food. You might be thrown off when you walk in, as it is a small space and viewing kitchen. But that opinion will go in their garbage when you sink into a pecan waffle, or slurp a chocolate freeze. And, if that wasn't enough, the customer service is BEYOND amazing.\", metadata={'source': './data/review_sample.csv', 'row': 676}),\n",
       "  Document(page_content=': 734\\nreview_id: V-5YCZ2mzuaTDk1TXacF5Q\\ntext: We had a great time at Camellia Grill!  The food was great! The people were wonderful!  We had great service! It was like stepping back in time!', metadata={'source': './data/review_sample.csv', 'row': 734}),\n",
       "  Document(page_content=': 423\\nreview_id: P9PEf3dyNcNTAOS9ptEN6g\\ntext: Camellia Grill is small place with good service and good comfort food. I would definitely recommend the cheeseburger, chili cheese fries and the apple pie. Our waiter Varnel (apologizes if i messed up the name) was very pleasant and recommended places to see in the area. Good price for the food as well.', metadata={'source': './data/review_sample.csv', 'row': 423})],\n",
       " 'answer': \"In addition to its delicious food, Camellia Grill is known for its nostalgic and classic diner atmosphere. The restaurant offers a unique dining experience with countertop seating, quick and attentive service, and a friendly staff who are familiar with the customers. Customers have also mentioned that it's a great place for chatting, reading a book, and enjoying a relaxed dining experience. Overall, Camellia Grill is known for delivering a classic American diner experience beyond just its food offerings.\"}"
      ]
     },
     "execution_count": 57,
     "metadata": {},
     "output_type": "execute_result"
    }
   ],
   "source": [
    "demo_ephemeral_chat_history.add_user_message(\"Is it known for anything else other than food?\")\n",
    "\n",
    "conversational_retrieval_chain.invoke(\n",
    "    {\"messages\": demo_ephemeral_chat_history.messages}\n",
    ")"
   ]
  },
  {
   "cell_type": "code",
   "execution_count": 40,
   "metadata": {},
   "outputs": [
    {
     "data": {
      "text/plain": [
       "{'messages': [HumanMessage(content='When are the best times to come to the Camellia Grill?')],\n",
       " 'context': [Document(page_content=\": 1026\\nreview_id: UuthR2CkatLYPnUVZMtaTw\\ntext: The Camellia Grill is a legend in New Orleans. Definitely the type of place I bring friends and family to when they come to visit. As locals, me and my family go there every time were in the area.  It's my favorite place to eat because the atmosphere, the service, and the food. When we walk in the door I feel like I'm stepping back in time to an old time diner.  The set-up is just one long counter surrounding the grills and it's decorated like were back in the 50's. The servers wear white dress shirts with bow ties like you expect to see in a diner. It has a vintage feel.  It's the time of place that the waiters call out your order to the back using diner lingo and they are always so friendly. If you don't know what to get they are always open to giving suggestions on classic favorites. They are perfect for late night, early morning, lunch, and dinner. They have breakfast food and a good variety of burgers and sandwiches. The food is cooked right in front of you, however you like it. I would recommend this place to locals and tourist. It's a new Orleans classic.\", metadata={'source': './data/review_sample.csv', 'row': 1026}),\n",
       "  Document(page_content=\": 789\\nreview_id: 8IuGFYNrCYrXIrvN7Xy0HA\\ntext: It had been years since I've been to Camellia Grill so recently I made my way back there.  I was lucky that it was during the week so we did not have any wait time.  The hardest thing to do was put money in the parking meter.  I ordered the pancakes not a big omelet person.  It was a basic pancake nothing fancy but Camellia Grill is not fancy it's been around for a long time and walking in is like walking back in time the restaurant has not changed a bit including the counter service.  If you go in the summer on weekends be prepared to wait outside in the heat.  It's also a great late night place after a night of drinking in the city.\", metadata={'source': './data/review_sample.csv', 'row': 789}),\n",
       "  Document(page_content=\": 377\\nreview_id: kR28I_muoQGwF4cO94Fwdw\\ntext: So much to say about Camellia Grill. It may seem like just an old, run-down restaurant, but it is much more than that. Camellia puts out great breakfast food that I will eat at any time of the day, very good burgers and sandwiches, and excellent desserts like their pecan pie. I recommend the Manhattan and Chef Special Omelettes for breakfast and the Club Sandwich.\\n\\n The food is half the reason you go there. The other half is just for the atmosphere. It has that old fashioned diner feel, and the wait staff is great, nice, and very entertaining.\\n\\nWhether you are really hungover or just looking for a great meal, you really can't go wrong going to Camellia.\", metadata={'source': './data/review_sample.csv', 'row': 377}),\n",
       "  Document(page_content=': 989\\nreview_id: PsWZU2dyIpWJZYxfgpqZMg\\ntext: The Camellia Grill is an institution, so much so that they were filming a segment for a TV show/movie on my recent visit (and the fascination surrounding this outweighed the delay in service that happened as a result).\\n\\nHere is what you will find...\\n\\n1. Servers like Michael who take a lot of pride in their work. They call out multiple orders at a time, then the cooks go to work.\\n2. 100% low counter seating. Every seat faces the kitchen. If your larger group wants to have a conversation, this may not be the best place.\\n3. Delicious breakfast options (standard eggs and bacon, grits, omelettes, pancakes), burgers, shakes, etc. Imagine taking the best of Waffle House and Johnny Rockets and putting it into a fun, local establishment.\\n4. It is crowded at peak breakfast and lunch times.', metadata={'source': './data/review_sample.csv', 'row': 989})],\n",
       " 'answer': \"The best times to visit the Camellia Grill would be during the week to avoid wait times, especially for breakfast or late-night dining. It's also recommended to visit during off-peak hours to avoid crowds, especially during peak breakfast and lunch times.\"}"
      ]
     },
     "execution_count": 40,
     "metadata": {},
     "output_type": "execute_result"
    }
   ],
   "source": [
    "demo_ephemeral_chat_history = ChatMessageHistory()\n",
    "\n",
    "demo_ephemeral_chat_history.add_user_message(\"When are the best times to come to the Camellia Grill?\")\n",
    "\n",
    "conversational_retrieval_chain.invoke(\n",
    "    {\"messages\": demo_ephemeral_chat_history.messages}\n",
    ")"
   ]
  },
  {
   "cell_type": "code",
   "execution_count": null,
   "metadata": {},
   "outputs": [],
   "source": []
  }
 ],
 "metadata": {
  "kernelspec": {
   "display_name": "langbot",
   "language": "python",
   "name": "python3"
  },
  "language_info": {
   "codemirror_mode": {
    "name": "ipython",
    "version": 3
   },
   "file_extension": ".py",
   "mimetype": "text/x-python",
   "name": "python",
   "nbconvert_exporter": "python",
   "pygments_lexer": "ipython3",
   "version": "3.9.6"
  }
 },
 "nbformat": 4,
 "nbformat_minor": 2
}
